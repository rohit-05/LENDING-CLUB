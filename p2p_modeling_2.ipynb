{
 "cells": [
  {
   "cell_type": "markdown",
   "metadata": {},
   "source": [
    "# Phase 4: Modeling part 2"
   ]
  },
  {
   "cell_type": "code",
   "execution_count": 575,
   "metadata": {
    "collapsed": true
   },
   "outputs": [],
   "source": [
    "\n",
    "import pandas as pd\n",
    "import matplotlib.pyplot as plt\n",
    "import matplotlib.axes as ax\n",
    "import datetime\n",
    "import numpy as np\n",
    "import pickle\n",
    "import time\n",
    "import seaborn as sns\n",
    "sns.set(font_scale=1.5)\n",
    "\n",
    "\n",
    "from sklearn.model_selection import train_test_split\n",
    "from sklearn import preprocessing\n",
    "from sklearn.model_selection import GridSearchCV\n",
    "\n",
    "from sklearn.metrics import accuracy_score, classification_report, roc_auc_score, roc_curve, brier_score_loss, mean_squared_error, r2_score\n",
    "\n",
    "from sklearn.calibration import calibration_curve\n",
    "\n",
    "\n",
    "from sklearn.linear_model import LogisticRegression\n",
    "from sklearn.linear_model import RidgeClassifier\n",
    "from sklearn.tree import DecisionTreeClassifier\n",
    "from sklearn.ensemble import RandomForestClassifier\n",
    "from sklearn.naive_bayes import GaussianNB\n",
    "\n",
    "\n",
    "from sklearn import linear_model\n",
    "from sklearn.ensemble import RandomForestRegressor\n",
    "from sklearn.externals.six import StringIO  \n",
    "from IPython.display import Image  \n",
    "from sklearn.tree import export_graphviz\n",
    "import pydotplus\n",
    "from scipy.interpolate import spline\n",
    "\n",
    "# Load debugger, if required\n",
    "#import pixiedust\n",
    "pd.options.mode.chained_assignment = None #'warn'\n",
    "\n",
    "# suppress all warnings\n",
    "import warnings\n",
    "warnings.filterwarnings(\"ignore\")"
   ]
  },
  {
   "cell_type": "code",
   "execution_count": 524,
   "metadata": {
    "collapsed": true
   },
   "outputs": [],
   "source": [
    "#Loading from pickle file \n",
    "df, float_cols, cat_cols, perc_cols, date_cols = \\\n",
    "                            pickle.load(open(\"C:\\Anaconda\\semester1\\p2p\\p2p_eda_1_data.pickle\", \"rb\" ))"
   ]
  },
  {
   "cell_type": "code",
   "execution_count": 525,
   "metadata": {},
   "outputs": [
    {
     "name": "stdout",
     "output_type": "stream",
     "text": [
      "Removed 567874 rows\n"
     ]
    }
   ],
   "source": [
    "# Remove all loans that are too recent to have been paid off or charged-off or defaulted\n",
    "n_rows = len(df)\n",
    "df = df[df.loan_status.isin(['Fully Paid','Charged Off','Default'])]\n",
    "print(\"Removed \" + str(n_rows - len(df)) + \" rows\")"
   ]
  },
  {
   "cell_type": "code",
   "execution_count": 526,
   "metadata": {
    "collapsed": true
   },
   "outputs": [],
   "source": [
    "#Assign charge-offs to positive class 1 and fully paid loans to negative class 0 \n",
    "df['loan_outcome'] = df['loan_status'].map({'Fully Paid': 0, 'Charged Off':1, 'Default':1})"
   ]
  },
  {
   "cell_type": "code",
   "execution_count": 527,
   "metadata": {
    "collapsed": true
   },
   "outputs": [],
   "source": [
    "df.drop(['zip_code', 'sub_grade', 'loan_status'], axis = 1, inplace = True)"
   ]
  },
  {
   "cell_type": "code",
   "execution_count": 528,
   "metadata": {
    "collapsed": true
   },
   "outputs": [],
   "source": [
    "cat_cols.remove('zip_code')\n",
    "cat_cols.remove('sub_grade')\n",
    "cat_cols.remove('loan_status')"
   ]
  },
  {
   "cell_type": "code",
   "execution_count": 531,
   "metadata": {
    "collapsed": true
   },
   "outputs": [],
   "source": [
    "def prepare_data(data_subset = np.array([True]*len(data)),\n",
    "                    n_samples_train = 30000,\n",
    "                    n_samples_test = 20000,\n",
    "                    feature_subset = None,\n",
    "                    date_range_train = (data.issue_d.min(), data.issue_d.max()),\n",
    "                    date_range_test = (data.issue_d.min(), data.issue_d.max()),\n",
    "                    random_state = 41):\n",
    "    \n",
    "    np.random.seed(random_state)\n",
    "        \n",
    "\n",
    "    filter_train = ( train & (data.issue_d >= date_range_train[0]) &\n",
    "                            (data.issue_d <= date_range_train[1]) & data_subset ).values\n",
    "    filter_test = ( (train == False) & (data.issue_d >= date_range_test[0])\n",
    "                            & (data.issue_d <= date_range_test[1]) & data_subset ).values\n",
    "    \n",
    "    filter_train[ np.random.choice( np.where(filter_train)[0], size = filter_train.sum()\n",
    "                                                   - n_samples_train, replace = False ) ] = False\n",
    "    filter_test[ np.random.choice( np.where(filter_test)[0], size = filter_test.sum()\n",
    "                                                   - n_samples_test, replace = False ) ] = False\n",
    "    \n",
    "    # Prepare the training and test set\n",
    "    X_train = X[ filter_train , :]\n",
    "    X_test = X[ filter_test, :]\n",
    "    if feature_subset != None:\n",
    "        cols = [i for i, j in enumerate(continuous_features + discrete_features_dummies)\n",
    "                                                     if j.split(\"::\")[0] in feature_subset]\n",
    "        X_train = X_train[ : , cols ]\n",
    "        X_test = X_test[ : , cols ]\n",
    "        \n",
    "    y_train = y[ filter_train ]\n",
    "    y_test = y[ filter_test ]\n",
    "    \n",
    "    # Scale the variables\n",
    "    scaler = preprocessing.MinMaxScaler()\n",
    "\n",
    "    X_train = scaler.fit_transform(X_train)\n",
    "    X_test = scaler.transform(X_test)\n",
    "    \n",
    "    # return training and testing data\n",
    "    out = {'X_train':X_train, 'y_train':y_train, 'train_set':filter_train, \n",
    "           'X_test':X_test, 'y_test':y_test, 'test_set':filter_test}\n",
    "    \n",
    "    return out"
   ]
  },
  {
   "cell_type": "code",
   "execution_count": 532,
   "metadata": {
    "collapsed": true
   },
   "outputs": [],
   "source": [
    "def fit_classification(model, data_dict,\n",
    "                          cv_parameters = {},\n",
    "                          model_name = None,\n",
    "                          random_state = 41,\n",
    "                          output_to_file = True,\n",
    "                          print_to_screen = True):\n",
    "        \n",
    "    np.random.seed(random_state)\n",
    "    \n",
    "  \n",
    "    X_train = data_dict['X_train']\n",
    "    y_train = data_dict['y_train']\n",
    "    \n",
    "    X_test = data_dict['X_test']\n",
    "    y_test = data_dict['y_test']\n",
    "    \n",
    "    filter_train = data_dict['train_set']    \n",
    "  \n",
    "    cv_model = GridSearchCV(model, cv_parameters, scoring = 'f1_macro')\n",
    "    \n",
    "    start_time = time.time()\n",
    "    cv_model.fit(X_train, y_train)\n",
    "    end_time = time.time()\n",
    "    \n",
    "    best_model = cv_model.best_estimator_\n",
    "    \n",
    "    if print_to_screen:\n",
    "\n",
    "        if model_name != None:\n",
    "            print(\"=========================================================\")\n",
    "            print(\"  Model: \" + model_name)\n",
    "            print(\"=========================================================\")\n",
    "\n",
    "        print(\"Fit time: \" + str(round(end_time - start_time, 2)) + \" seconds\")\n",
    "        print(\"Optimal parameters:\")\n",
    "        print(cv_model.best_params_)\n",
    "        print(\"\")\n",
    " \n",
    "    try:\n",
    "        y_pred_probs = best_model.predict_proba(X_test)[:,1]\n",
    "        fpr, tpr, thresholds = roc_curve(y_test, y_pred_probs)\n",
    "        \n",
    "        probs_predicted = False\n",
    "    except:\n",
    "        probs_predicted = False\n",
    "    \n",
    "    if probs_predicted:\n",
    "        y_train_pred_probs = best_model.predict_proba(X_train)[:,1]\n",
    "        fpr_train, tpr_train, thresholds_train = roc_curve(y_train, y_train_pred_probs)\n",
    "        \n",
    "        true_pos_train = tpr_train*(y_train.sum())\n",
    "        true_neg_train = (1 - fpr_train) *(1-y_train).sum()\n",
    "        \n",
    "        best_threshold_index = np.argmax(true_pos_train + true_neg_train)\n",
    "        best_threshold = 1 if best_threshold_index == 0 else thresholds_train[ best_threshold_index ]\n",
    "        \n",
    "        if print_to_screen:\n",
    "            print(\"Accuracy-maximizing threshold was: \" + str(best_threshold))\n",
    "        \n",
    "        y_pred = (y_pred_probs > best_threshold)\n",
    "    else:\n",
    "        y_pred = best_model.predict(X_test)\n",
    "    \n",
    "    if print_to_screen:\n",
    "        print(\"Accuracy: \", accuracy_score(y_test, y_pred))\n",
    "        print(classification_report(y_test, y_pred, target_names =['No default', 'Default'], digits = 4))\n",
    "\n",
    "    if print_to_screen:\n",
    "        if probs_predicted == False:        \n",
    "            plt.figure(figsize = (12, 6))\n",
    "            plt.subplot(2, 2, 1)\n",
    "\n",
    "            plt.title(\"ROC Curve (AUC = %0.2f)\"% roc_auc_score(y_test, y_pred_probs))\n",
    "            plt.plot(fpr, tpr, 'b')\n",
    "            plt.plot([0,1],[0,1],'r--')\n",
    "            plt.xlim([0,1]); plt.ylim([0,1])\n",
    "            plt.ylabel('True Positive Rate')\n",
    "            plt.xlabel('False Positive Rate')\n",
    "\n",
    "            plt.subplot(2, 2, 3)\n",
    "\n",
    "            plt.plot(thresholds, tpr, 'b', label = 'Sensitivity')\n",
    "            plt.plot(thresholds, 1 -fpr, 'r', label = 'Specificity')\n",
    "            plt.legend(loc = 'lower right')\n",
    "            plt.xlim([0,1]); plt.ylim([0,1])\n",
    "            plt.xlabel('Threshold')\n",
    "\n",
    "            plt.subplot(2, 2, 2)\n",
    "\n",
    "            fp_0, mpv_0 = calibration_curve(y_test, y_pred_probs, n_bins = 10)\n",
    "            plt.plot([0,1], [0,1], 'k:', label='Perfectly calibrated')\n",
    "            plt.plot(mpv_0, fp_0, 's-')\n",
    "            plt.ylabel('Fraction of Positives')\n",
    "            plt.xlim([0,1]); plt.ylim([0,1])\n",
    "            plt.legend(loc ='upper left')\n",
    "            \n",
    "            plt.subplot(2, 2, 4)\n",
    "            plt.hist(y_pred_probs, range=(0, 1), bins=10, histtype=\"step\", lw=2)\n",
    "            plt.xlim([0,1]); plt.ylim([0,20000])\n",
    "            plt.xlabel('Mean Predicted Probability')\n",
    "            plt.ylabel('Count')\n",
    "            \n",
    "            #plt.tight_layout()\n",
    "            plt.show()\n",
    "        \n",
    "    if probs_predicted == False:\n",
    "        y_train_pred_probs = best_model.predict_proba(X_train)[:,1]\n",
    "        \n",
    "        y_train_score = y_train_pred_probs\n",
    "    else:\n",
    "        y_train_score = best_model.decision_function(X_train)\n",
    "\n",
    "\n",
    "    model_preds = {'model':best_model, 'y_pred_labels':y_pred}\n",
    "\n",
    "    if probs_predicted == False and output_to_file:\n",
    "        model_preds.update({'y_pred_probs':y_pred_probs})\n",
    "        print(model_name + \"::roc_auc\", roc_auc_score(y_test, y_pred_probs))\n",
    "\n",
    "    else:\n",
    "        y_pred_score = best_model.decision_function(X_test)\n",
    "        model_preds.update({'y_pred_score':y_pred_score})\n",
    "\n",
    "\n",
    "    return model_preds"
   ]
  },
  {
   "cell_type": "code",
   "execution_count": 533,
   "metadata": {
    "collapsed": true
   },
   "outputs": [],
   "source": [
    "# Define the names of the four returns we'll be calculating\n",
    "ret_cols = [\"ret_min\", \"ret_reinv\"]"
   ]
  },
  {
   "cell_type": "code",
   "execution_count": 534,
   "metadata": {},
   "outputs": [
    {
     "name": "stdout",
     "output_type": "stream",
     "text": [
      "Removed 6143 rows\n"
     ]
    }
   ],
   "source": [
    "df['loan_length'] = (df.last_pymnt_d - df.issue_d) / np.timedelta64(1, 'M')\n",
    "n_rows = len(df)\n",
    "df = df[df.loan_length != 0]\n",
    "print(\"Removed \" + str(n_rows - len(df)) + \" rows\")\n"
   ]
  },
  {
   "cell_type": "code",
   "execution_count": 535,
   "metadata": {
    "collapsed": true
   },
   "outputs": [],
   "source": [
    "# Calculate the return using a simple annualized profit margin\n",
    "# Pessimistic fefinition (method 2)\n",
    "\n",
    "df['term_num'] = df.term.str.extract('(\\d+)',expand=False).astype(int)\n",
    "df['ret_min'] = ((df.total_pymnt - df.funded_amnt) \n",
    "                                            / df.funded_amnt ) * (12 / df['term_num'])"
   ]
  },
  {
   "cell_type": "code",
   "execution_count": 536,
   "metadata": {
    "collapsed": true
   },
   "outputs": [],
   "source": [
    "# Assuming that if a loan gives a positive return, we can\n",
    "# immediately find a similar loan to invest in; if the loan\n",
    "# takes a loss, we use method 2 to compute the return\n",
    "\n",
    "\n",
    "df['ret_reinv'] = ((df.total_pymnt - df.funded_amnt)\n",
    "                                            / df.funded_amnt ) * (12 / df['loan_length'])\n",
    "df.loc[df.ret_reinv < 0,'ret_reinv'] = df.ret_min[df.ret_reinv < 0]"
   ]
  },
  {
   "cell_type": "code",
   "execution_count": 537,
   "metadata": {},
   "outputs": [
    {
     "data": {
      "text/html": [
       "<div>\n",
       "<style scoped>\n",
       "    .dataframe tbody tr th:only-of-type {\n",
       "        vertical-align: middle;\n",
       "    }\n",
       "\n",
       "    .dataframe tbody tr th {\n",
       "        vertical-align: top;\n",
       "    }\n",
       "\n",
       "    .dataframe thead th {\n",
       "        text-align: right;\n",
       "    }\n",
       "</style>\n",
       "<table border=\"1\" class=\"dataframe\">\n",
       "  <thead>\n",
       "    <tr style=\"text-align: right;\">\n",
       "      <th></th>\n",
       "      <th>grade</th>\n",
       "      <th>default</th>\n",
       "      <th>int_rate</th>\n",
       "      <th>ret_reinv</th>\n",
       "      <th>ret_min</th>\n",
       "    </tr>\n",
       "  </thead>\n",
       "  <tbody>\n",
       "    <tr>\n",
       "      <th>A</th>\n",
       "      <td>16.969831</td>\n",
       "      <td>6.622424</td>\n",
       "      <td>6.887968</td>\n",
       "      <td>3.889316</td>\n",
       "      <td>0.895688</td>\n",
       "    </tr>\n",
       "    <tr>\n",
       "      <th>B</th>\n",
       "      <td>29.292661</td>\n",
       "      <td>15.428664</td>\n",
       "      <td>10.364540</td>\n",
       "      <td>4.549603</td>\n",
       "      <td>0.169867</td>\n",
       "    </tr>\n",
       "    <tr>\n",
       "      <th>C</th>\n",
       "      <td>30.337793</td>\n",
       "      <td>25.502141</td>\n",
       "      <td>13.985369</td>\n",
       "      <td>4.792274</td>\n",
       "      <td>-1.103703</td>\n",
       "    </tr>\n",
       "    <tr>\n",
       "      <th>D</th>\n",
       "      <td>14.246219</td>\n",
       "      <td>34.770734</td>\n",
       "      <td>18.504384</td>\n",
       "      <td>5.128709</td>\n",
       "      <td>-2.332682</td>\n",
       "    </tr>\n",
       "    <tr>\n",
       "      <th>E</th>\n",
       "      <td>6.095703</td>\n",
       "      <td>42.758865</td>\n",
       "      <td>23.312135</td>\n",
       "      <td>6.110200</td>\n",
       "      <td>-2.960373</td>\n",
       "    </tr>\n",
       "    <tr>\n",
       "      <th>F</th>\n",
       "      <td>2.220392</td>\n",
       "      <td>51.148754</td>\n",
       "      <td>27.234388</td>\n",
       "      <td>5.901611</td>\n",
       "      <td>-3.836381</td>\n",
       "    </tr>\n",
       "    <tr>\n",
       "      <th>G</th>\n",
       "      <td>0.837403</td>\n",
       "      <td>54.491482</td>\n",
       "      <td>29.889533</td>\n",
       "      <td>5.706067</td>\n",
       "      <td>-4.822133</td>\n",
       "    </tr>\n",
       "  </tbody>\n",
       "</table>\n",
       "</div>"
      ],
      "text/plain": [
       "       grade    default   int_rate  ret_reinv   ret_min\n",
       "A  16.969831   6.622424   6.887968   3.889316  0.895688\n",
       "B  29.292661  15.428664  10.364540   4.549603  0.169867\n",
       "C  30.337793  25.502141  13.985369   4.792274 -1.103703\n",
       "D  14.246219  34.770734  18.504384   5.128709 -2.332682\n",
       "E   6.095703  42.758865  23.312135   6.110200 -2.960373\n",
       "F   2.220392  51.148754  27.234388   5.901611 -3.836381\n",
       "G   0.837403  54.491482  29.889533   5.706067 -4.822133"
      ]
     },
     "execution_count": 537,
     "metadata": {},
     "output_type": "execute_result"
    }
   ],
   "source": [
    "# Find the percentage of loans by grade, the default by grade,\n",
    "# and the return of each grade\n",
    "perc_by_grade = (df.grade.value_counts()*100/len(df)).sort_index()\n",
    "default_by_grade = df.groupby(\"grade\").apply(lambda x : (x.loan_outcome != 0).sum()*100/len(x) )\n",
    "ret_by_grade_OPT = df.groupby(\"grade\").apply(lambda x : np.mean(x.ret_reinv)*100)\n",
    "ret_by_grade_PESS = df.groupby(\"grade\").apply(lambda x : np.mean(x.ret_min)*100)\n",
    "int_rate_by_grade = df.groupby(\"grade\").apply(lambda x : np.mean(x.int_rate))\n",
    "\n",
    "combined = pd.DataFrame(perc_by_grade)\n",
    "combined['default'] = default_by_grade\n",
    "combined['int_rate'] = int_rate_by_grade\n",
    "combined['ret_reinv'] = ret_by_grade_OPT\n",
    "combined['ret_min'] = ret_by_grade_PESS\n",
    "\n",
    "combined"
   ]
  },
  {
   "cell_type": "code",
   "execution_count": 573,
   "metadata": {
    "collapsed": true
   },
   "outputs": [],
   "source": [
    "df3 = combined.iloc[:,0:3]"
   ]
  },
  {
   "cell_type": "code",
   "execution_count": 574,
   "metadata": {},
   "outputs": [
    {
     "data": {
      "text/html": [
       "<div>\n",
       "<style scoped>\n",
       "    .dataframe tbody tr th:only-of-type {\n",
       "        vertical-align: middle;\n",
       "    }\n",
       "\n",
       "    .dataframe tbody tr th {\n",
       "        vertical-align: top;\n",
       "    }\n",
       "\n",
       "    .dataframe thead th {\n",
       "        text-align: right;\n",
       "    }\n",
       "</style>\n",
       "<table border=\"1\" class=\"dataframe\">\n",
       "  <thead>\n",
       "    <tr style=\"text-align: right;\">\n",
       "      <th></th>\n",
       "      <th>grade</th>\n",
       "      <th>default</th>\n",
       "      <th>int_rate</th>\n",
       "    </tr>\n",
       "  </thead>\n",
       "  <tbody>\n",
       "    <tr>\n",
       "      <th>A</th>\n",
       "      <td>16.969831</td>\n",
       "      <td>6.622424</td>\n",
       "      <td>6.887968</td>\n",
       "    </tr>\n",
       "    <tr>\n",
       "      <th>B</th>\n",
       "      <td>29.292661</td>\n",
       "      <td>15.428664</td>\n",
       "      <td>10.364540</td>\n",
       "    </tr>\n",
       "    <tr>\n",
       "      <th>C</th>\n",
       "      <td>30.337793</td>\n",
       "      <td>25.502141</td>\n",
       "      <td>13.985369</td>\n",
       "    </tr>\n",
       "    <tr>\n",
       "      <th>D</th>\n",
       "      <td>14.246219</td>\n",
       "      <td>34.770734</td>\n",
       "      <td>18.504384</td>\n",
       "    </tr>\n",
       "    <tr>\n",
       "      <th>E</th>\n",
       "      <td>6.095703</td>\n",
       "      <td>42.758865</td>\n",
       "      <td>23.312135</td>\n",
       "    </tr>\n",
       "    <tr>\n",
       "      <th>F</th>\n",
       "      <td>2.220392</td>\n",
       "      <td>51.148754</td>\n",
       "      <td>27.234388</td>\n",
       "    </tr>\n",
       "    <tr>\n",
       "      <th>G</th>\n",
       "      <td>0.837403</td>\n",
       "      <td>54.491482</td>\n",
       "      <td>29.889533</td>\n",
       "    </tr>\n",
       "  </tbody>\n",
       "</table>\n",
       "</div>"
      ],
      "text/plain": [
       "       grade    default   int_rate\n",
       "A  16.969831   6.622424   6.887968\n",
       "B  29.292661  15.428664  10.364540\n",
       "C  30.337793  25.502141  13.985369\n",
       "D  14.246219  34.770734  18.504384\n",
       "E   6.095703  42.758865  23.312135\n",
       "F   2.220392  51.148754  27.234388\n",
       "G   0.837403  54.491482  29.889533"
      ]
     },
     "execution_count": 574,
     "metadata": {},
     "output_type": "execute_result"
    }
   ],
   "source": [
    "df3"
   ]
  },
  {
   "cell_type": "code",
   "execution_count": 538,
   "metadata": {
    "collapsed": true
   },
   "outputs": [],
   "source": [
    "#Removing highly correlated columns\n",
    "corr_cols = ['total_pymnt', 'total_rec_int', 'tot_cur_bal', 'avg_cur_bal', 'funded_amnt_inv', \n",
    "             'num_sats','total_pymnt_inv','total_rec_prncp', 'out_prncp_inv', 'tot_hi_cred_lim',\\\n",
    "             'num_actv_rev_tl','num_rev_tl_bal_gt_0','total_bal_ex_mort', 'total_il_high_credit_limit', 'recoveries']\n",
    "\n",
    "df.drop(corr_cols,axis = 1, inplace = True)\n",
    "\n",
    "float_cols = []\n",
    "for col in df:\n",
    "    if df[col].dtype == 'float':\n",
    "        float_cols.append(col)"
   ]
  },
  {
   "cell_type": "code",
   "execution_count": 539,
   "metadata": {
    "collapsed": true
   },
   "outputs": [],
   "source": [
    "continuous_features = float_cols + perc_cols\n",
    "discrete_features = cat_cols\n",
    "\n",
    "# Create a feature for the length of a person's credit history at the\n",
    "# time the loan is issued\n",
    "df['cr_hist'] = (df.issue_d - df.earliest_cr_line)/np.timedelta64(1, 'M')\n",
    "continuous_features.append('cr_hist')"
   ]
  },
  {
   "cell_type": "code",
   "execution_count": 540,
   "metadata": {},
   "outputs": [
    {
     "data": {
      "text/plain": [
       "(462621, 66)"
      ]
     },
     "execution_count": 540,
     "metadata": {},
     "output_type": "execute_result"
    }
   ],
   "source": [
    "df.shape"
   ]
  },
  {
   "cell_type": "code",
   "execution_count": 541,
   "metadata": {
    "collapsed": true
   },
   "outputs": [],
   "source": [
    "df = df.loc[~df['ret_reinv'].isna(),:]"
   ]
  },
  {
   "cell_type": "code",
   "execution_count": 542,
   "metadata": {
    "collapsed": true
   },
   "outputs": [],
   "source": [
    "df.drop(['last_pymnt_d',\"grade\", \"int_rate\", \"installment\"], axis = 1, inplace = True)"
   ]
  },
  {
   "cell_type": "code",
   "execution_count": 543,
   "metadata": {},
   "outputs": [
    {
     "data": {
      "text/plain": [
       "(461336, 62)"
      ]
     },
     "execution_count": 543,
     "metadata": {},
     "output_type": "execute_result"
    }
   ],
   "source": [
    "df.shape"
   ]
  },
  {
   "cell_type": "code",
   "execution_count": 544,
   "metadata": {},
   "outputs": [
    {
     "data": {
      "text/plain": [
       "(461336, 62)"
      ]
     },
     "execution_count": 544,
     "metadata": {},
     "output_type": "execute_result"
    }
   ],
   "source": [
    "df.shape"
   ]
  },
  {
   "cell_type": "code",
   "execution_count": 545,
   "metadata": {
    "collapsed": true
   },
   "outputs": [],
   "source": [
    "discrete_features.remove('grade')\n",
    "discrete_features.remove('debt_settlement_flag')\n",
    "continuous_features.remove('loan_amnt')\n",
    "discrete_features.remove('term')\n",
    "continuous_features.remove('int_rate')\n",
    "continuous_features.remove('installment')\n",
    "continuous_features.remove('int_rate')\n",
    "continuous_features.remove('loan_length')"
   ]
  },
  {
   "cell_type": "code",
   "execution_count": 553,
   "metadata": {
    "collapsed": true
   },
   "outputs": [],
   "source": [
    "np.random.seed(41)\n",
    "df['train'] = np.random.choice([True, False], size = len(df), p = [0.8, 0.2])\n",
    "\n",
    "X_continuous = df[continuous_features].values\n",
    "\n",
    "X_discrete = pd.get_dummies(df[discrete_features], dummy_na = True, prefix_sep = \"::\", drop_first = True)\n",
    "discrete_features_dummies = X_discrete.columns.tolist()\n",
    "X_discrete = X_discrete.values\n",
    "\n",
    "X = np.concatenate((X_continuous, X_discrete), axis = 1 )\n",
    "y = df.loan_outcome.values\n",
    "train = df.train.values"
   ]
  },
  {
   "cell_type": "code",
   "execution_count": 554,
   "metadata": {
    "collapsed": true
   },
   "outputs": [],
   "source": [
    "data = df.copy()"
   ]
  },
  {
   "cell_type": "code",
   "execution_count": 555,
   "metadata": {},
   "outputs": [
    {
     "data": {
      "text/plain": [
       "(461336, 63)"
      ]
     },
     "execution_count": 555,
     "metadata": {},
     "output_type": "execute_result"
    }
   ],
   "source": [
    "df.shape"
   ]
  },
  {
   "cell_type": "code",
   "execution_count": 556,
   "metadata": {
    "collapsed": true
   },
   "outputs": [],
   "source": [
    "def fit_regression(model, data_dict,\n",
    "                      cv_parameters = {},\n",
    "                      separate = False, \n",
    "                      model_name = None,\n",
    "                      random_state = 41,\n",
    "                      output_to_file = True,\n",
    "                      print_to_screen = True):\n",
    "    \n",
    "    np.random.seed(random_state)\n",
    "    \n",
    "    col_list = ['ret_min', 'ret_reinv']\n",
    "    \n",
    "    X_train = data_dict['X_train']\n",
    "    filter_train = data_dict['train_set']  \n",
    "\n",
    "    X_test = data_dict['X_test']\n",
    "    filter_test = data_dict['test_set']\n",
    "    out = {}\n",
    "    \n",
    "    for ret_col in col_list:\n",
    "        \n",
    "        y_train = data.loc[filter_train, ret_col].as_matrix()\n",
    "        y_test = data.loc[filter_test, ret_col].as_matrix() \n",
    "\n",
    "        # --------------------------\n",
    "        #   Step 2 - Fit the model\n",
    "        # --------------------------\n",
    "\n",
    "        if separate:\n",
    "            outcome_train = data.loc[filter_train, 'loan_outcome']\n",
    "            outcome_test = data.loc[filter_test, 'loan_outcome']\n",
    "\n",
    "            # Train two separate regressors for defaulted and non-defaulted loans\n",
    "            X_train_0 = X_train[outcome_train == False]\n",
    "            y_train_0 = y_train[outcome_train == False]\n",
    "            X_test_0 = X_test[outcome_test == False]\n",
    "            y_test_0 = y_test[outcome_test == False]\n",
    "\n",
    "            X_train_1 = X_train[outcome_train == True]\n",
    "            y_train_1 = y_train[outcome_train == True]\n",
    "            X_test_1 = X_test[outcome_test == True]\n",
    "            y_test_1 = y_test[outcome_test == True]\n",
    "\n",
    "            cv_model_0 = GridSearchCV(model, cv_parameters, scoring='r2')\n",
    "            cv_model_1 = GridSearchCV(model, cv_parameters, scoring='r2')\n",
    "\n",
    "            start_time = time.time()\n",
    "            cv_model_0.fit(X_train_0, y_train_0)\n",
    "            cv_model_1.fit(X_train_1, y_train_1)\n",
    "            end_time = time.time()\n",
    "\n",
    "            best_model_0 = cv_model_0.best_estimator_\n",
    "            best_model_1 = cv_model_1.best_estimator_\n",
    "            \n",
    "            if print_to_screen:\n",
    "\n",
    "                if model_name != None:\n",
    "                    print(\"=========================================================\")\n",
    "                    print(\"  Model: \" + model_name + \"  Return column: \" + ret_col)\n",
    "                    print(\"=========================================================\")\n",
    "\n",
    "                print(\"Fit time: \" + str(round(end_time - start_time, 2)) + \" seconds\")\n",
    "                print(\"Optimal parameters:\")\n",
    "                print(\"model_0:\",cv_model_0.best_params_, \"model_1\",cv_model_1.best_params_)\n",
    "\n",
    "            predicted_regular_return = best_model_0.predict(X_test)\n",
    "            predicted_default_return = best_model_1.predict(X_test)\n",
    "            \n",
    "            if print_to_screen:\n",
    "                print(\"\")\n",
    "                print(\"Testing r2 scores:\")\n",
    "            # Here we use different testing set to report the performance\n",
    "            test_scores = {'model_0':r2_score(y_test_0,best_model_0.predict(X_test_0)),\n",
    "                              'model_1':r2_score(y_test_1,best_model_1.predict(X_test_1))}\n",
    "            if print_to_screen:\n",
    "                print(\"model_0:\", test_scores['model_0'])\n",
    "                print(\"model_1:\", test_scores['model_1'])\n",
    "\n",
    "            cv_objects = {'model_0':cv_model_0, 'model_1':cv_model_1}\n",
    "            out[ret_col] = { 'model_0':best_model_0, 'model_1':best_model_1, 'predicted_regular_return':predicted_regular_return,\n",
    "                      'predicted_default_return':predicted_default_return,'r2_scores':test_scores }\n",
    "\n",
    "        else:\n",
    "            cv_model = GridSearchCV(model, cv_parameters, scoring='r2')\n",
    "\n",
    "            start_time = time.time()\n",
    "            cv_model.fit(X_train, y_train)\n",
    "            end_time = time.time()\n",
    "\n",
    "            best_model = cv_model.best_estimator_\n",
    "            \n",
    "            if print_to_screen:\n",
    "                if model_name != None:\n",
    "                    print(\"=========================================================\")\n",
    "                    print(\"  Model: \" + model_name + \"  Return column: \" + ret_col)\n",
    "                    print(\"=========================================================\")\n",
    "\n",
    "                print(\"Fit time: \" + str(round(end_time - start_time, 2)) + \" seconds\")\n",
    "                print(\"Optimal parameters:\")\n",
    "                print(cv_model.best_params_)\n",
    "\n",
    "            predicted_return = best_model.predict(X_test)\n",
    "            test_scores = {'model':r2_score(y_test,predicted_return)}\n",
    "            if print_to_screen:\n",
    "                print(\"\")\n",
    "                print(\"Testing r2 score:\", test_scores['model'])\n",
    "\n",
    "            cv_objects = {'model':cv_model}\n",
    "            out[ret_col] = {'model':best_model, 'predicted_return':predicted_return, 'r2_scores':r2_score(y_test,predicted_return)}\n",
    "\n",
    "    return out"
   ]
  },
  {
   "cell_type": "code",
   "execution_count": 557,
   "metadata": {
    "collapsed": true
   },
   "outputs": [],
   "source": [
    "final_features = [i for i in discrete_features + continuous_features if i not in ret_cols]"
   ]
  },
  {
   "cell_type": "code",
   "execution_count": 558,
   "metadata": {
    "collapsed": true
   },
   "outputs": [],
   "source": [
    "data_dict = prepare_data(feature_subset = final_features)"
   ]
  },
  {
   "cell_type": "code",
   "execution_count": 559,
   "metadata": {},
   "outputs": [
    {
     "data": {
      "text/plain": [
       "['emp_length',\n",
       " 'home_ownership',\n",
       " 'verification_status',\n",
       " 'purpose',\n",
       " 'pymnt_plan',\n",
       " 'addr_state',\n",
       " 'initial_list_status',\n",
       " 'application_type',\n",
       " 'hardship_flag',\n",
       " 'disbursement_method',\n",
       " 'funded_amnt',\n",
       " 'annual_inc',\n",
       " 'dti',\n",
       " 'revol_bal',\n",
       " 'delinq_2yrs',\n",
       " 'open_acc',\n",
       " 'inq_last_6mths',\n",
       " 'pub_rec',\n",
       " 'total_acc',\n",
       " 'out_prncp',\n",
       " 'collections_12_mths_ex_med',\n",
       " 'acc_now_delinq',\n",
       " 'tot_coll_amt',\n",
       " 'inq_fi',\n",
       " 'inq_last_12m',\n",
       " 'acc_open_past_24mths',\n",
       " 'bc_util',\n",
       " 'chargeoff_within_12_mths',\n",
       " 'delinq_amnt',\n",
       " 'mo_sin_old_il_acct',\n",
       " 'mo_sin_old_rev_tl_op',\n",
       " 'mo_sin_rcnt_rev_tl_op',\n",
       " 'mo_sin_rcnt_tl',\n",
       " 'mort_acc',\n",
       " 'mths_since_recent_bc',\n",
       " 'num_accts_ever_120_pd',\n",
       " 'num_actv_bc_tl',\n",
       " 'num_bc_sats',\n",
       " 'num_bc_tl',\n",
       " 'num_il_tl',\n",
       " 'num_op_rev_tl',\n",
       " 'num_rev_accts',\n",
       " 'num_tl_120dpd_2m',\n",
       " 'num_tl_30dpd',\n",
       " 'num_tl_90g_dpd_24m',\n",
       " 'num_tl_op_past_12m',\n",
       " 'pub_rec_bankruptcies',\n",
       " 'tax_liens',\n",
       " 'total_bc_limit',\n",
       " 'pct_tl_nvr_dlq',\n",
       " 'percent_bc_gt_75',\n",
       " 'cr_hist']"
      ]
     },
     "execution_count": 559,
     "metadata": {},
     "output_type": "execute_result"
    }
   ],
   "source": [
    "final_features"
   ]
  },
  {
   "cell_type": "code",
   "execution_count": 560,
   "metadata": {
    "collapsed": true
   },
   "outputs": [],
   "source": [
    "all_features = pd.Series(continuous_features + discrete_features_dummies)\n",
    "idx = [i for i, j in enumerate(continuous_features + discrete_features_dummies)\n",
    "                                                     if j.split(\"::\")[0] in final_features]\n",
    "selected_features = all_features[idx]\n",
    "selected_features.reset_index(drop=True,inplace=True)"
   ]
  },
  {
   "cell_type": "code",
   "execution_count": 561,
   "metadata": {},
   "outputs": [
    {
     "name": "stdout",
     "output_type": "stream",
     "text": [
      "=========================================================\n",
      "  Model: Random forest regressor  Return column: ret_min\n",
      "=========================================================\n",
      "Fit time: 45.21 seconds\n",
      "Optimal parameters:\n",
      "{'min_samples_leaf': 75, 'n_estimators': 35}\n",
      "\n",
      "Testing r2 score: 0.03276941738611128\n",
      "=========================================================\n",
      "  Model: Random forest regressor  Return column: ret_reinv\n",
      "=========================================================\n",
      "Fit time: 48.81 seconds\n",
      "Optimal parameters:\n",
      "{'min_samples_leaf': 75, 'n_estimators': 35}\n",
      "\n",
      "Testing r2 score: 0.01848543874660613\n"
     ]
    }
   ],
   "source": [
    "cv_parameters = {'min_samples_leaf':[75],\n",
    "                 'n_estimators': [35] }\n",
    "\n",
    "reg_rf = fit_regression(RandomForestRegressor(), data_dict,\n",
    "               cv_parameters = cv_parameters, separate = False, model_name = \"Random forest regressor\")"
   ]
  },
  {
   "cell_type": "code",
   "execution_count": 562,
   "metadata": {},
   "outputs": [
    {
     "data": {
      "image/png": "[encoded data removed]",
      "text/plain": [
       "<Figure size 576x720 with 1 Axes>"
      ]
     },
     "metadata": {
      "needs_background": "light"
     },
     "output_type": "display_data"
    }
   ],
   "source": [
    "plt.figure(figsize = (8,10))\n",
    "top_idx = list(np.argsort(random_forest['model'].feature_importances_)[-20:]) \n",
    "bplot = pd.Series(random_forest['model'].feature_importances_[top_idx])\n",
    "yticks = selected_features[top_idx]\n",
    "\n",
    "p2 = bplot.plot(kind='barh',ylim=(0,0.2))\n",
    "p2.set_yticklabels(yticks)\n",
    "plt.title('Random Forest Feature Importance');"
   ]
  },
  {
   "cell_type": "code",
   "execution_count": 563,
   "metadata": {
    "collapsed": true
   },
   "outputs": [],
   "source": [
    "def test_investments(data_dict,\n",
    "                        classifier = None,\n",
    "                        regressor = None,\n",
    "                        strategy = 'Random', \n",
    "                        num_loans = 1000,\n",
    "                        random_state = 41,\n",
    "                        output_to_file = True):\n",
    "    \n",
    "    np.random.seed(random_state)\n",
    "    \n",
    "    train_set = data_dict['train_set']\n",
    "    test_set = data_dict['test_set']\n",
    "    \n",
    "    col_list = ['ret_min', 'ret_reinv']\n",
    "    \n",
    "    data_test = data.loc[test_set,:]\n",
    "    out = {}\n",
    "    \n",
    "    for ret_col in col_list:\n",
    "        \n",
    "        try:\n",
    "            y_pred_score = classifier['y_pred_probs']\n",
    "        except:\n",
    "            y_pred_score = classifier['y_pred_score']\n",
    "\n",
    "        data_test['score'] = y_pred_score\n",
    "\n",
    "        if strategy == 'regr_classifier':\n",
    "\n",
    "            data_test['predicted_regular_return'] = regressor[ret_col]['predicted_regular_return']\n",
    "            data_test['predicted_default_return'] = regressor[ret_col]['predicted_default_return']\n",
    "\n",
    "            colname = 'predicted_return_' + ret_col \n",
    "            \n",
    "            data_test[colname] = ((1-data_test.score)*data_test.predicted_regular_return + \n",
    "                                             data_test.score*data_test.predicted_default_return)\n",
    "\n",
    "            data_test = data_test.sort_values(by=colname, ascending = False).reset_index(drop = True)\n",
    "\n",
    "            pf_test = data_test[['funded_amnt',ret_col]].iloc[:num_loans]\n",
    "\n",
    "            ret_test = np.dot(pf_test[ret_col],pf_test.funded_amnt)/np.sum(pf_test.funded_amnt)\n",
    "\n",
    "            # Return\n",
    "            out[ret_col] = {'strategy':strategy, 'average return':ret_test, 'test data':data_test}\n",
    "\n",
    "            continue\n",
    "\n",
    "        else:\n",
    "            return 'Not a valid strategy'\n",
    "        \n",
    "    return out"
   ]
  },
  {
   "cell_type": "code",
   "execution_count": 564,
   "metadata": {},
   "outputs": [
    {
     "name": "stdout",
     "output_type": "stream",
     "text": [
      "=========================================================\n",
      "  Model: Random forest\n",
      "=========================================================\n",
      "Fit time: 64.01 seconds\n",
      "Optimal parameters:\n",
      "{'min_samples_leaf': 10, 'n_estimators': 35}\n",
      "\n",
      "Accuracy:  0.7312\n",
      "             precision    recall  f1-score   support\n",
      "\n",
      " No default     0.8157    0.8452    0.8302     15550\n",
      "    Default     0.3809    0.3328    0.3552      4450\n",
      "\n",
      "avg / total     0.7190    0.7312    0.7245     20000\n",
      "\n"
     ]
    },
    {
     "data": {
      "image/png": "[encoded data removed]",
      "text/plain": [
       "<Figure size 864x432 with 4 Axes>"
      ]
     },
     "metadata": {
      "needs_background": "light"
     },
     "output_type": "display_data"
    },
    {
     "name": "stdout",
     "output_type": "stream",
     "text": [
      "Random forest::roc_auc 0.6742668304490769\n"
     ]
    }
   ],
   "source": [
    "random_forest = RandomForestClassifier(class_weight='balanced')\n",
    "cv_parameters = {'min_samples_leaf':[2,5,10], 'n_estimators': [15,35,75]}\n",
    "\n",
    "random_forest = fit_classification(random_forest, data_dict,\n",
    "                                   cv_parameters=cv_parameters, model_name=\"Random forest\")"
   ]
  },
  {
   "cell_type": "code",
   "execution_count": 565,
   "metadata": {},
   "outputs": [
    {
     "name": "stdout",
     "output_type": "stream",
     "text": [
      "=========================================================\n",
      "  Model: Random forest regressor  Return column: ret_min\n",
      "=========================================================\n",
      "Fit time: 284.76 seconds\n",
      "Optimal parameters:\n",
      "model_0: {'min_samples_leaf': 25, 'n_estimators': 75} model_1 {'min_samples_leaf': 25, 'n_estimators': 75}\n",
      "\n",
      "Testing r2 scores:\n",
      "model_0: 0.17000902223292613\n",
      "model_1: 0.03995294112111292\n",
      "=========================================================\n",
      "  Model: Random forest regressor  Return column: ret_reinv\n",
      "=========================================================\n",
      "Fit time: 264.13 seconds\n",
      "Optimal parameters:\n",
      "model_0: {'min_samples_leaf': 25, 'n_estimators': 75} model_1 {'min_samples_leaf': 50, 'n_estimators': 75}\n",
      "\n",
      "Testing r2 scores:\n",
      "model_0: 0.22340378939886052\n",
      "model_1: 0.035853117870023765\n",
      "Loan selection strategy: regr_classifier\n",
      "ret_min: 0.015136847990678461\n",
      "ret_reinv: 0.05376948704711179\n"
     ]
    }
   ],
   "source": [
    "test_strategy = 'regr_classifier'\n",
    "\n",
    "cv_parameters = {'min_samples_leaf':[25,50,100],\n",
    "                 'n_estimators': [15,35,75]}\n",
    "\n",
    "reg_rf_separate = fit_regression(RandomForestRegressor(), data_dict,\n",
    "                       cv_parameters = cv_parameters, separate = True, model_name = \"Random forest regressor\")\n",
    "\n",
    "print('Loan selection strategy:',test_strategy)\n",
    "two_stage = test_investments(data_dict, classifier = random_forest, regressor = reg_rf_separate, \n",
    "                             strategy = test_strategy, num_loans = 1000)\n",
    "\n",
    "col_list = ['ret_min', 'ret_reinv']\n",
    "\n",
    "for ret_col in col_list:\n",
    "    print(ret_col + ': ' + str(two_stage[ret_col]['average return']))"
   ]
  },
  {
   "cell_type": "code",
   "execution_count": 577,
   "metadata": {},
   "outputs": [
    {
     "data": {
      "image/png": "[encoded data removed]",
      "text/plain": [
       "<Figure size 576x432 with 1 Axes>"
      ]
     },
     "metadata": {},
     "output_type": "display_data"
    }
   ],
   "source": [
    "result_sensitivity = []\n",
    "\n",
    "## Vary the portfolio size from 1,000 to 10,000\n",
    "for num_loans in list(range(500,5000,500)):\n",
    "\n",
    "    reg_0 = test_investments(data_dict, regressor = reg_rf_separate, classifier = random_forest, \n",
    "                            strategy = 'regr_classifier', num_loans = num_loans)\n",
    "    result_sensitivity.append(reg_0['ret_min']['average return'])\n",
    "    \n",
    "result_sensitivity = np.array(result_sensitivity) * 100\n",
    "plt.figure(figsize = (8,6))\n",
    "sns.pointplot(np.array(list(range(500,5000,500))),result_sensitivity)\n",
    "sns.despine()\n",
    "plt.ylabel('Annualized returns (%)',size = 14)\n",
    "plt.xlabel('Number of loans invested',size = 14)\n",
    "plt.show()"
   ]
  },
  {
   "cell_type": "code",
   "execution_count": 567,
   "metadata": {},
   "outputs": [
    {
     "data": {
      "text/plain": [
       "0.008134309196733693"
      ]
     },
     "execution_count": 567,
     "metadata": {},
     "output_type": "execute_result"
    }
   ],
   "source": [
    "reg_0['ret_min']['average return']"
   ]
  },
  {
   "cell_type": "code",
   "execution_count": 568,
   "metadata": {},
   "outputs": [
    {
     "data": {
      "text/plain": [
       "0.04621945429236231"
      ]
     },
     "execution_count": 568,
     "metadata": {},
     "output_type": "execute_result"
    }
   ],
   "source": [
    "reg_0['ret_reinv']['average return']"
   ]
  },
  {
   "cell_type": "markdown",
   "metadata": {
    "collapsed": true
   },
   "source": [
    "# End of notebook"
   ]
  }
 ],
 "metadata": {
  "kernelspec": {
   "display_name": "Python 3",
   "language": "python",
   "name": "python3"
  },
  "language_info": {
   "codemirror_mode": {
    "name": "ipython",
    "version": 3
   },
   "file_extension": ".py",
   "mimetype": "text/x-python",
   "name": "python",
   "nbconvert_exporter": "python",
   "pygments_lexer": "ipython3",
   "version": "3.6.4"
  }
 },
 "nbformat": 4,
 "nbformat_minor": 2
}
